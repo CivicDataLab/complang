{
 "cells": [
  {
   "cell_type": "code",
   "execution_count": 17,
   "metadata": {},
   "outputs": [],
   "source": [
    "# imports\n",
    "import matplotlib.pyplot as plt\n",
    "from typing import List, Tuple, Dict\n",
    "import numpy as np\n",
    "import spacy\n",
    "import os\n",
    "import pandas as pd\n",
    "import collections\n",
    "%matplotlib inline"
   ]
  },
  {
   "cell_type": "code",
   "execution_count": 18,
   "metadata": {},
   "outputs": [],
   "source": [
    "nlp = spacy.load('en_core_web_sm')"
   ]
  },
  {
   "cell_type": "code",
   "execution_count": 19,
   "metadata": {},
   "outputs": [],
   "source": [
    "### Creating DataFrame\n",
    "\n",
    "idir = \"/home/akhilesh/civicdatalab/samantar_parsers/data/txts/\"\n",
    "df = pd.DataFrame()\n",
    "all_data = []\n",
    "for filename in os.listdir(idir):\n",
    "    if filename.endswith('.txt'):\n",
    "        with open(idir + filename, 'r') as f:\n",
    "            data = f.readlines()\n",
    "        stripped_data = list(map(lambda x: x.strip(), data))\n",
    "        clean_data = ' '.join(stripped_data)\n",
    "        corr = (filename.split(\".\")[0], clean_data)\n",
    "        all_data.append(corr)\n",
    "\n",
    "df = pd.DataFrame(all_data)\n",
    "df.columns = ['year', 'content']"
   ]
  },
  {
   "cell_type": "code",
   "execution_count": 53,
   "metadata": {},
   "outputs": [],
   "source": [
    "df['tokenised'] = df.content.apply(lambda x: [x.text for x in nlp.tokenizer(x)])"
   ]
  },
  {
   "cell_type": "code",
   "execution_count": 54,
   "metadata": {},
   "outputs": [
    {
     "data": {
      "text/plain": [
       "0     [SPEECH, OF, SHRI, Y.B.CHAVAN, MINISTER, OF, F...\n",
       "1     [SPEECH, OF, SHRI, C.SUBRAMANIAM, MINISTER, OF...\n",
       "2     [SPEECH, OF, SHRI, JAWAHAR, LAL, NEHRU,  , PRI...\n",
       "3     [1,  , Budget,  , 2001, -, 2002,  , Speech,   ...\n",
       "4     [1,  , Budget,  , 1995, -, 96,  , Speech,  , o...\n",
       "                            ...                        \n",
       "82    [SPEECH, OF, SHRA, T.T., KRISHNAMACHARI, MINIS...\n",
       "83    [1,  , Budget,  , 2002, -, 2003,  , Speech,   ...\n",
       "84    [SPEECH, OF, SHRI, T.T., KRISHNAMACHARI, MINIS...\n",
       "85    [1,  , Budget,  , 1997, -, 98,  , Speech,  , o...\n",
       "86    [SPEECH, OF, SHRI, MORARJ1, R., DESAI, DEPUTY,...\n",
       "Name: tokenised, Length: 87, dtype: object"
      ]
     },
     "execution_count": 54,
     "metadata": {},
     "output_type": "execute_result"
    }
   ],
   "source": [
    "df['tokenised']"
   ]
  },
  {
   "cell_type": "code",
   "execution_count": 55,
   "metadata": {},
   "outputs": [],
   "source": [
    "from measures.len_based import average_token_length_characters\n",
    "from measures.len_based import average_token_length_syllables"
   ]
  },
  {
   "cell_type": "code",
   "execution_count": 59,
   "metadata": {},
   "outputs": [],
   "source": [
    "df['avg_token_len_characters'] = df['tokenised'].apply(lambda x: average_token_length_characters(x, False))"
   ]
  },
  {
   "cell_type": "code",
   "execution_count": 64,
   "metadata": {},
   "outputs": [
    {
     "name": "stderr",
     "output_type": "stream",
     "text": [
      "/home/akhilesh/venv/p3/lib/python3.7/site-packages/numpy/core/fromnumeric.py:3257: RuntimeWarning: Mean of empty slice.\n",
      "  out=out, **kwargs)\n"
     ]
    }
   ],
   "source": [
    "df['avg_token_length_syllables'] = df['tokenised'].apply(lambda x: average_token_length_syllables(x, stdev=False))"
   ]
  },
  {
   "cell_type": "code",
   "execution_count": 65,
   "metadata": {},
   "outputs": [
    {
     "data": {
      "text/html": [
       "<div>\n",
       "<style scoped>\n",
       "    .dataframe tbody tr th:only-of-type {\n",
       "        vertical-align: middle;\n",
       "    }\n",
       "\n",
       "    .dataframe tbody tr th {\n",
       "        vertical-align: top;\n",
       "    }\n",
       "\n",
       "    .dataframe thead th {\n",
       "        text-align: right;\n",
       "    }\n",
       "</style>\n",
       "<table border=\"1\" class=\"dataframe\">\n",
       "  <thead>\n",
       "    <tr style=\"text-align: right;\">\n",
       "      <th></th>\n",
       "      <th>year</th>\n",
       "      <th>content</th>\n",
       "      <th>tokenised</th>\n",
       "      <th>avg_token_len_characters</th>\n",
       "      <th>avg_token_length_syllables</th>\n",
       "    </tr>\n",
       "  </thead>\n",
       "  <tbody>\n",
       "    <tr>\n",
       "      <td>0</td>\n",
       "      <td>1973_-_1974_</td>\n",
       "      <td>SPEECH OF SHRI Y.B.CHAVAN MINISTER OF FINANCE ...</td>\n",
       "      <td>[SPEECH, OF, SHRI, Y.B.CHAVAN, MINISTER, OF, F...</td>\n",
       "      <td>4.045793</td>\n",
       "      <td>1.433972</td>\n",
       "    </tr>\n",
       "    <tr>\n",
       "      <td>1</td>\n",
       "      <td>1976_-_1977_</td>\n",
       "      <td>SPEECH OF SHRI C.SUBRAMANIAM MINISTER OF FINAN...</td>\n",
       "      <td>[SPEECH, OF, SHRI, C.SUBRAMANIAM, MINISTER, OF...</td>\n",
       "      <td>4.119379</td>\n",
       "      <td>1.451296</td>\n",
       "    </tr>\n",
       "    <tr>\n",
       "      <td>2</td>\n",
       "      <td>1958_-_1959_</td>\n",
       "      <td>SPEECH OF SHRI JAWAHAR LAL NEHRU  PRIME MINIST...</td>\n",
       "      <td>[SPEECH, OF, SHRI, JAWAHAR, LAL, NEHRU,  , PRI...</td>\n",
       "      <td>3.883214</td>\n",
       "      <td>1.364900</td>\n",
       "    </tr>\n",
       "    <tr>\n",
       "      <td>3</td>\n",
       "      <td>2001_-_2002_</td>\n",
       "      <td>1  Budget  2001-2002  Speech    of  Shri  Yash...</td>\n",
       "      <td>[1,  , Budget,  , 2001, -, 2002,  , Speech,   ...</td>\n",
       "      <td>2.900919</td>\n",
       "      <td>1.282631</td>\n",
       "    </tr>\n",
       "    <tr>\n",
       "      <td>4</td>\n",
       "      <td>1995_-_1996_</td>\n",
       "      <td>1  Budget  1995-96  Speech  of  Shri  Manmohan...</td>\n",
       "      <td>[1,  , Budget,  , 1995, -, 96,  , Speech,  , o...</td>\n",
       "      <td>2.882617</td>\n",
       "      <td>1.274366</td>\n",
       "    </tr>\n",
       "  </tbody>\n",
       "</table>\n",
       "</div>"
      ],
      "text/plain": [
       "           year                                            content  \\\n",
       "0  1973_-_1974_  SPEECH OF SHRI Y.B.CHAVAN MINISTER OF FINANCE ...   \n",
       "1  1976_-_1977_  SPEECH OF SHRI C.SUBRAMANIAM MINISTER OF FINAN...   \n",
       "2  1958_-_1959_  SPEECH OF SHRI JAWAHAR LAL NEHRU  PRIME MINIST...   \n",
       "3  2001_-_2002_  1  Budget  2001-2002  Speech    of  Shri  Yash...   \n",
       "4  1995_-_1996_  1  Budget  1995-96  Speech  of  Shri  Manmohan...   \n",
       "\n",
       "                                           tokenised  \\\n",
       "0  [SPEECH, OF, SHRI, Y.B.CHAVAN, MINISTER, OF, F...   \n",
       "1  [SPEECH, OF, SHRI, C.SUBRAMANIAM, MINISTER, OF...   \n",
       "2  [SPEECH, OF, SHRI, JAWAHAR, LAL, NEHRU,  , PRI...   \n",
       "3  [1,  , Budget,  , 2001, -, 2002,  , Speech,   ...   \n",
       "4  [1,  , Budget,  , 1995, -, 96,  , Speech,  , o...   \n",
       "\n",
       "   avg_token_len_characters  avg_token_length_syllables  \n",
       "0                  4.045793                    1.433972  \n",
       "1                  4.119379                    1.451296  \n",
       "2                  3.883214                    1.364900  \n",
       "3                  2.900919                    1.282631  \n",
       "4                  2.882617                    1.274366  "
      ]
     },
     "execution_count": 65,
     "metadata": {},
     "output_type": "execute_result"
    }
   ],
   "source": [
    "df.head()"
   ]
  }
 ],
 "metadata": {
  "kernelspec": {
   "display_name": "Python 3",
   "language": "python",
   "name": "python3"
  },
  "language_info": {
   "codemirror_mode": {
    "name": "ipython",
    "version": 3
   },
   "file_extension": ".py",
   "mimetype": "text/x-python",
   "name": "python",
   "nbconvert_exporter": "python",
   "pygments_lexer": "ipython3",
   "version": "3.7.4"
  }
 },
 "nbformat": 4,
 "nbformat_minor": 2
}
