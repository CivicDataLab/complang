{
 "cells": [
  {
   "cell_type": "code",
   "execution_count": 21,
   "metadata": {},
   "outputs": [],
   "source": [
    "# imports\n",
    "import matplotlib.pyplot as plt\n",
    "from typing import List, Tuple, Dict\n",
    "import numpy as np\n",
    "import spacy\n",
    "import os\n",
    "import pandas as pd\n",
    "import collections\n",
    "%matplotlib inline"
   ]
  },
  {
   "cell_type": "code",
   "execution_count": 2,
   "metadata": {},
   "outputs": [],
   "source": [
    "nlp = spacy.load('en_core_web_sm')"
   ]
  },
  {
   "cell_type": "code",
   "execution_count": 3,
   "metadata": {},
   "outputs": [],
   "source": [
    "### Creating DataFrame\n",
    "\n",
    "idir = \"/home/akhilesh/civicdatalab/samantar_parsers/data/txts/\"\n",
    "df = pd.DataFrame()\n",
    "all_data = []\n",
    "for filename in os.listdir(idir):\n",
    "    if filename.endswith('.txt'):\n",
    "        with open(idir + filename, 'r') as f:\n",
    "            data = f.readlines()\n",
    "        stripped_data = list(map(lambda x: x.strip(), data))\n",
    "        clean_data = ' '.join(stripped_data)\n",
    "        corr = (filename.split(\".\")[0], clean_data)\n",
    "        all_data.append(corr)\n",
    "\n",
    "df = pd.DataFrame(all_data)\n",
    "df.columns = ['year', 'content']"
   ]
  },
  {
   "cell_type": "code",
   "execution_count": 4,
   "metadata": {},
   "outputs": [
    {
     "data": {
      "text/html": [
       "<div>\n",
       "<style scoped>\n",
       "    .dataframe tbody tr th:only-of-type {\n",
       "        vertical-align: middle;\n",
       "    }\n",
       "\n",
       "    .dataframe tbody tr th {\n",
       "        vertical-align: top;\n",
       "    }\n",
       "\n",
       "    .dataframe thead th {\n",
       "        text-align: right;\n",
       "    }\n",
       "</style>\n",
       "<table border=\"1\" class=\"dataframe\">\n",
       "  <thead>\n",
       "    <tr style=\"text-align: right;\">\n",
       "      <th></th>\n",
       "      <th>year</th>\n",
       "      <th>content</th>\n",
       "    </tr>\n",
       "  </thead>\n",
       "  <tbody>\n",
       "    <tr>\n",
       "      <td>0</td>\n",
       "      <td>1973_-_1974_</td>\n",
       "      <td>SPEECH OF SHRI Y.B.CHAVAN MINISTER OF FINANCE ...</td>\n",
       "    </tr>\n",
       "    <tr>\n",
       "      <td>1</td>\n",
       "      <td>1976_-_1977_</td>\n",
       "      <td>SPEECH OF SHRI C.SUBRAMANIAM MINISTER OF FINAN...</td>\n",
       "    </tr>\n",
       "    <tr>\n",
       "      <td>2</td>\n",
       "      <td>1958_-_1959_</td>\n",
       "      <td>SPEECH OF SHRI JAWAHAR LAL NEHRU  PRIME MINIST...</td>\n",
       "    </tr>\n",
       "    <tr>\n",
       "      <td>3</td>\n",
       "      <td>2001_-_2002_</td>\n",
       "      <td>1  Budget  2001-2002  Speech    of  Shri  Yash...</td>\n",
       "    </tr>\n",
       "    <tr>\n",
       "      <td>4</td>\n",
       "      <td>1995_-_1996_</td>\n",
       "      <td>1  Budget  1995-96  Speech  of  Shri  Manmohan...</td>\n",
       "    </tr>\n",
       "  </tbody>\n",
       "</table>\n",
       "</div>"
      ],
      "text/plain": [
       "           year                                            content\n",
       "0  1973_-_1974_  SPEECH OF SHRI Y.B.CHAVAN MINISTER OF FINANCE ...\n",
       "1  1976_-_1977_  SPEECH OF SHRI C.SUBRAMANIAM MINISTER OF FINAN...\n",
       "2  1958_-_1959_  SPEECH OF SHRI JAWAHAR LAL NEHRU  PRIME MINIST...\n",
       "3  2001_-_2002_  1  Budget  2001-2002  Speech    of  Shri  Yash...\n",
       "4  1995_-_1996_  1  Budget  1995-96  Speech  of  Shri  Manmohan..."
      ]
     },
     "execution_count": 4,
     "metadata": {},
     "output_type": "execute_result"
    }
   ],
   "source": [
    "df.head()"
   ]
  },
  {
   "cell_type": "code",
   "execution_count": 5,
   "metadata": {},
   "outputs": [],
   "source": [
    "df['tokenised'] = df.content.apply(lambda x: list(nlp.tokenizer(x)))"
   ]
  },
  {
   "cell_type": "code",
   "execution_count": 9,
   "metadata": {},
   "outputs": [],
   "source": [
    "df['tokenised'] = df['tokenised'].apply(lambda x: str(x))"
   ]
  },
  {
   "cell_type": "code",
   "execution_count": 11,
   "metadata": {},
   "outputs": [],
   "source": [
    "from measures.freq_based import sichel_s\n",
    "from measures.freq_based import michea_m\n",
    "from measures.freq_based import honore_h\n",
    "from measures.freq_based import entropy\n",
    "from measures.freq_based import yule_k\n",
    "from measures.freq_based import simpson_d\n",
    "from measures.freq_based import herdan_vm\n",
    "from measures.freq_based import hdd"
   ]
  },
  {
   "cell_type": "code",
   "execution_count": 17,
   "metadata": {},
   "outputs": [],
   "source": [
    "measures = dict(\n",
    "    sichel_s=sichel_s,\n",
    "    michea_m=michea_m,\n",
    "    honore_h=honore_h,\n",
    "    entropy=entropy,\n",
    "    yule_k=yule_k,\n",
    "    simpson_d=simpson_d,\n",
    "    herdan_vm=herdan_vm,\n",
    "    hdd=hdd\n",
    ")"
   ]
  },
  {
   "cell_type": "code",
   "execution_count": 13,
   "metadata": {},
   "outputs": [],
   "source": [
    "def get_freq_spectrum(tokens: List[str]) -> Dict[int, int]:\n",
    "    freq_list = collections.Counter(tokens)\n",
    "    freq_spectrum = dict(collections.Counter(freq_list.values()))\n",
    "    return freq_spectrum"
   ]
  },
  {
   "cell_type": "code",
   "execution_count": 25,
   "metadata": {},
   "outputs": [],
   "source": [
    "window_size = 100\n",
    "def get_measure(tokens: List[str], measure: str) -> np.float64:\n",
    "    func = measures[measure]\n",
    "    total_measure = []\n",
    "    if tokens:\n",
    "    #     freq_spectrum = get_freq_spectrum(tokens)\n",
    "    #     vocab_size = len(set(tokens))\n",
    "    #     total_measure.append(func(vocab_size, freq_spectrum))\n",
    "        for i in range(int(len(tokens) / window_size)):\n",
    "            chunk = tokens[i * window_size : (i * window_size) + window_size]\n",
    "            freq_spectrum = get_freq_spectrum(tokens)\n",
    "            vocab_size = len(set(tokens))\n",
    "            txt_len = len(tokens)\n",
    "            result = func(vocab_size, freq_spectrum)\n",
    "            total_measure.append(result)\n",
    "        return np.mean(total_measure)\n",
    "    return None"
   ]
  },
  {
   "cell_type": "code",
   "execution_count": 22,
   "metadata": {},
   "outputs": [
    {
     "name": "stderr",
     "output_type": "stream",
     "text": [
      "/home/akhilesh/venv/p3/lib/python3.7/site-packages/numpy/core/fromnumeric.py:3257: RuntimeWarning: Mean of empty slice.\n",
      "  out=out, **kwargs)\n"
     ]
    }
   ],
   "source": [
    "df['sichel_s'] = df['tokenised'].apply(lambda x: get_measure(x, 'sichel_s'))"
   ]
  },
  {
   "cell_type": "code",
   "execution_count": 27,
   "metadata": {},
   "outputs": [],
   "source": [
    "df.to_csv('sichel_s.csv')"
   ]
  },
  {
   "cell_type": "code",
   "execution_count": 28,
   "metadata": {},
   "outputs": [],
   "source": [
    "window_size = 100\n",
    "def get_other_measure(tokens: List[str], measure: str) -> np.float64:\n",
    "    func = measures[measure]\n",
    "    total_measure = []\n",
    "#     freq_spectrum = get_freq_spectrum(tokens)\n",
    "#     vocab_size = len(set(tokens))\n",
    "#     total_measure.append(func(vocab_size, freq_spectrum))\n",
    "    for i in range(int(len(tokens) / window_size)):\n",
    "        chunk = tokens[i * window_size : (i * window_size) + window_size]\n",
    "        freq_spectrum = get_freq_spectrum(tokens)\n",
    "#         vocab_size = len(set(tokens))\n",
    "        txt_len = len(tokens)\n",
    "        result = func(txt_len, freq_spectrum)\n",
    "        total_measure.append(result)\n",
    "    return np.mean(total_measure)"
   ]
  },
  {
   "cell_type": "code",
   "execution_count": 29,
   "metadata": {},
   "outputs": [],
   "source": [
    "df['entropy'] = df['tokenised'].apply(lambda x: get_measure(x, 'entropy'))"
   ]
  },
  {
   "cell_type": "code",
   "execution_count": 30,
   "metadata": {},
   "outputs": [],
   "source": [
    "df['yule_k'] = df['tokenised'].apply(lambda x: get_measure(x, 'yule_k'))"
   ]
  },
  {
   "cell_type": "code",
   "execution_count": 31,
   "metadata": {},
   "outputs": [],
   "source": [
    "df['simpson_d'] = df['tokenised'].apply(lambda x: get_measure(x, 'simpson_d'))"
   ]
  },
  {
   "cell_type": "code",
   "execution_count": 32,
   "metadata": {},
   "outputs": [],
   "source": [
    "df['hdd'] = df['tokenised'].apply(lambda x: get_measure(x, 'hdd'))"
   ]
  },
  {
   "cell_type": "code",
   "execution_count": 33,
   "metadata": {},
   "outputs": [],
   "source": [
    "df.to_csv('most_of_freq_measures.csv')"
   ]
  },
  {
   "cell_type": "code",
   "execution_count": 36,
   "metadata": {},
   "outputs": [],
   "source": [
    "def get_all_other_measure(tokens: List[str], measure: str) -> np.float64:\n",
    "    func = measures[measure]\n",
    "    total_measure = []\n",
    "#     freq_spectrum = get_freq_spectrum(tokens)\n",
    "#     vocab_size = len(set(tokens))\n",
    "#     total_measure.append(func(vocab_size, freq_spectrum))\n",
    "    for i in range(int(len(tokens) / window_size)):\n",
    "        chunk = tokens[i * window_size : (i * window_size) + window_size]\n",
    "        freq_spectrum = get_freq_spectrum(tokens)\n",
    "        vocab_size = len(set(tokens))\n",
    "        txt_len = len(tokens)\n",
    "        result = func(txt_len, vocab_size, freq_spectrum)\n",
    "        total_measure.append(result)\n",
    "    return np.mean(total_measure)"
   ]
  },
  {
   "cell_type": "code",
   "execution_count": 38,
   "metadata": {},
   "outputs": [
    {
     "name": "stderr",
     "output_type": "stream",
     "text": [
      "/home/akhilesh/venv/p3/lib/python3.7/site-packages/numpy/core/fromnumeric.py:3257: RuntimeWarning: Mean of empty slice.\n",
      "  out=out, **kwargs)\n"
     ]
    }
   ],
   "source": [
    "df['honore_h'] = df['tokenised'].apply(lambda x: get_all_other_measure(x, 'honore_h'))"
   ]
  },
  {
   "cell_type": "code",
   "execution_count": 39,
   "metadata": {},
   "outputs": [],
   "source": [
    "df['herdan_vm'] = df['tokenised'].apply(lambda x: get_all_other_measure(x, 'herdan_vm'))"
   ]
  },
  {
   "cell_type": "code",
   "execution_count": 41,
   "metadata": {},
   "outputs": [],
   "source": [
    "df.to_csv('all_freq_measures.csv')"
   ]
  },
  {
   "cell_type": "code",
   "execution_count": 42,
   "metadata": {},
   "outputs": [
    {
     "data": {
      "text/html": [
       "<div>\n",
       "<style scoped>\n",
       "    .dataframe tbody tr th:only-of-type {\n",
       "        vertical-align: middle;\n",
       "    }\n",
       "\n",
       "    .dataframe tbody tr th {\n",
       "        vertical-align: top;\n",
       "    }\n",
       "\n",
       "    .dataframe thead th {\n",
       "        text-align: right;\n",
       "    }\n",
       "</style>\n",
       "<table border=\"1\" class=\"dataframe\">\n",
       "  <thead>\n",
       "    <tr style=\"text-align: right;\">\n",
       "      <th></th>\n",
       "      <th>year</th>\n",
       "      <th>content</th>\n",
       "      <th>tokenised</th>\n",
       "      <th>sichel_s</th>\n",
       "      <th>entropy</th>\n",
       "      <th>yule_k</th>\n",
       "      <th>simpson_d</th>\n",
       "      <th>hdd</th>\n",
       "      <th>honore_h</th>\n",
       "      <th>herdan_vm</th>\n",
       "    </tr>\n",
       "  </thead>\n",
       "  <tbody>\n",
       "    <tr>\n",
       "      <td>0</td>\n",
       "      <td>1973_-_1974_</td>\n",
       "      <td>SPEECH OF SHRI Y.B.CHAVAN MINISTER OF FINANCE ...</td>\n",
       "      <td>[SPEECH, OF, SHRI, Y.B.CHAVAN, MINISTER, OF, F...</td>\n",
       "      <td>0.038961</td>\n",
       "      <td>-4174.927699</td>\n",
       "      <td>9.482838e+08</td>\n",
       "      <td>96062.553315</td>\n",
       "      <td>0.853017</td>\n",
       "      <td>1241.155909</td>\n",
       "      <td>0.275718</td>\n",
       "    </tr>\n",
       "    <tr>\n",
       "      <td>1</td>\n",
       "      <td>1976_-_1977_</td>\n",
       "      <td>SPEECH OF SHRI C.SUBRAMANIAM MINISTER OF FINAN...</td>\n",
       "      <td>[SPEECH, OF, SHRI, C.SUBRAMANIAM, MINISTER, OF...</td>\n",
       "      <td>0.040000</td>\n",
       "      <td>-5782.814368</td>\n",
       "      <td>1.595972e+09</td>\n",
       "      <td>161735.779820</td>\n",
       "      <td>0.886989</td>\n",
       "      <td>1234.412281</td>\n",
       "      <td>0.273806</td>\n",
       "    </tr>\n",
       "    <tr>\n",
       "      <td>2</td>\n",
       "      <td>1958_-_1959_</td>\n",
       "      <td>SPEECH OF SHRI JAWAHAR LAL NEHRU  PRIME MINIST...</td>\n",
       "      <td>[SPEECH, OF, SHRI, JAWAHAR, LAL, NEHRU,  , PRI...</td>\n",
       "      <td>0.025316</td>\n",
       "      <td>-3065.451087</td>\n",
       "      <td>6.071438e+08</td>\n",
       "      <td>61482.409932</td>\n",
       "      <td>0.875933</td>\n",
       "      <td>1231.231366</td>\n",
       "      <td>0.282953</td>\n",
       "    </tr>\n",
       "    <tr>\n",
       "      <td>3</td>\n",
       "      <td>2001_-_2002_</td>\n",
       "      <td>1  Budget  2001-2002  Speech    of  Shri  Yash...</td>\n",
       "      <td>[1,  , Budget,  , 2001, -, 2002,  , Speech,   ...</td>\n",
       "      <td>0.011628</td>\n",
       "      <td>-8626.306678</td>\n",
       "      <td>4.572081e+09</td>\n",
       "      <td>462566.124487</td>\n",
       "      <td>0.911511</td>\n",
       "      <td>1267.230452</td>\n",
       "      <td>0.365504</td>\n",
       "    </tr>\n",
       "    <tr>\n",
       "      <td>4</td>\n",
       "      <td>1995_-_1996_</td>\n",
       "      <td>1  Budget  1995-96  Speech  of  Shri  Manmohan...</td>\n",
       "      <td>[1,  , Budget,  , 1995, -, 96,  , Speech,  , o...</td>\n",
       "      <td>0.050633</td>\n",
       "      <td>-7449.724035</td>\n",
       "      <td>3.572864e+09</td>\n",
       "      <td>361846.910094</td>\n",
       "      <td>0.914448</td>\n",
       "      <td>1235.173825</td>\n",
       "      <td>0.364495</td>\n",
       "    </tr>\n",
       "  </tbody>\n",
       "</table>\n",
       "</div>"
      ],
      "text/plain": [
       "           year                                            content  \\\n",
       "0  1973_-_1974_  SPEECH OF SHRI Y.B.CHAVAN MINISTER OF FINANCE ...   \n",
       "1  1976_-_1977_  SPEECH OF SHRI C.SUBRAMANIAM MINISTER OF FINAN...   \n",
       "2  1958_-_1959_  SPEECH OF SHRI JAWAHAR LAL NEHRU  PRIME MINIST...   \n",
       "3  2001_-_2002_  1  Budget  2001-2002  Speech    of  Shri  Yash...   \n",
       "4  1995_-_1996_  1  Budget  1995-96  Speech  of  Shri  Manmohan...   \n",
       "\n",
       "                                           tokenised  sichel_s      entropy  \\\n",
       "0  [SPEECH, OF, SHRI, Y.B.CHAVAN, MINISTER, OF, F...  0.038961 -4174.927699   \n",
       "1  [SPEECH, OF, SHRI, C.SUBRAMANIAM, MINISTER, OF...  0.040000 -5782.814368   \n",
       "2  [SPEECH, OF, SHRI, JAWAHAR, LAL, NEHRU,  , PRI...  0.025316 -3065.451087   \n",
       "3  [1,  , Budget,  , 2001, -, 2002,  , Speech,   ...  0.011628 -8626.306678   \n",
       "4  [1,  , Budget,  , 1995, -, 96,  , Speech,  , o...  0.050633 -7449.724035   \n",
       "\n",
       "         yule_k      simpson_d       hdd     honore_h  herdan_vm  \n",
       "0  9.482838e+08   96062.553315  0.853017  1241.155909   0.275718  \n",
       "1  1.595972e+09  161735.779820  0.886989  1234.412281   0.273806  \n",
       "2  6.071438e+08   61482.409932  0.875933  1231.231366   0.282953  \n",
       "3  4.572081e+09  462566.124487  0.911511  1267.230452   0.365504  \n",
       "4  3.572864e+09  361846.910094  0.914448  1235.173825   0.364495  "
      ]
     },
     "execution_count": 42,
     "metadata": {},
     "output_type": "execute_result"
    }
   ],
   "source": [
    "df.head()"
   ]
  },
  {
   "cell_type": "code",
   "execution_count": 44,
   "metadata": {},
   "outputs": [
    {
     "name": "stderr",
     "output_type": "stream",
     "text": [
      "/home/akhilesh/venv/p3/lib/python3.7/site-packages/ipykernel_launcher.py:1: FutureWarning: \n",
      "The current behaviour of 'Series.argmin' is deprecated, use 'idxmin'\n",
      "instead.\n",
      "The behavior of 'argmin' will be corrected to return the positional\n",
      "minimum in the future. For now, use 'series.values.argmin' or\n",
      "'np.argmin(np.array(values))' to get the position of the minimum\n",
      "row.\n",
      "  \"\"\"Entry point for launching an IPython kernel.\n"
     ]
    },
    {
     "data": {
      "text/plain": [
       "year                                          1977_-_1978_(I)_\n",
       "content      SPEECH OF SHRI H.M.PATEL MINISTER OF FINANCE  ...\n",
       "tokenised    [SPEECH, OF, SHRI, H.M.PATEL, MINISTER, OF, FI...\n",
       "sichel_s                                                     0\n",
       "entropy                                               -154.563\n",
       "yule_k                                             8.20423e+06\n",
       "simpson_d                                              831.744\n",
       "hdd                                                   0.692829\n",
       "honore_h                                               963.709\n",
       "herdan_vm                                             0.268495\n",
       "Name: 32, dtype: object"
      ]
     },
     "execution_count": 44,
     "metadata": {},
     "output_type": "execute_result"
    }
   ],
   "source": [
    "df.loc[df['hdd'].argmin()]"
   ]
  }
 ],
 "metadata": {
  "kernelspec": {
   "display_name": "Python 3",
   "language": "python",
   "name": "python3"
  },
  "language_info": {
   "codemirror_mode": {
    "name": "ipython",
    "version": 3
   },
   "file_extension": ".py",
   "mimetype": "text/x-python",
   "name": "python",
   "nbconvert_exporter": "python",
   "pygments_lexer": "ipython3",
   "version": "3.7.4"
  }
 },
 "nbformat": 4,
 "nbformat_minor": 2
}
